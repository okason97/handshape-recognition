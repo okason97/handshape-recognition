{
 "cells": [
  {
   "cell_type": "code",
   "execution_count": 1,
   "metadata": {},
   "outputs": [],
   "source": [
    "from __future__ import absolute_import, division, print_function, unicode_literals\n",
    "\n",
    "!pip install -q tf-nightly-gpu-2.0-preview"
   ]
  },
  {
   "cell_type": "code",
   "execution_count": 2,
   "metadata": {},
   "outputs": [
    {
     "name": "stdout",
     "output_type": "stream",
     "text": [
      "2.0.0-dev20190531\n"
     ]
    }
   ],
   "source": [
    "import tensorflow as tf\n",
    "\n",
    "import numpy as np\n",
    "from tensorflow.keras.layers import Input, ZeroPadding2D, Dense, Dropout, Activation, Convolution2D, Reshape\n",
    "from tensorflow.keras.layers import AveragePooling2D, GlobalAveragePooling2D, MaxPooling2D, BatchNormalization\n",
    "\n",
    "from tensorflow.keras import Model\n",
    "from tensorflow.keras.utils import to_categorical\n",
    "\n",
    "from tensorflow.keras.layers import Layer, InputSpec\n",
    "from tensorflow.keras import initializers\n",
    "import tensorflow.keras.backend as K\n",
    "from tensorflow.keras.preprocessing.image import ImageDataGenerator\n",
    "\n",
    "import os\n",
    "\n",
    "print(tf.__version__)"
   ]
  },
  {
   "cell_type": "code",
   "execution_count": 3,
   "metadata": {},
   "outputs": [
    {
     "data": {
      "text/plain": [
       "True"
      ]
     },
     "execution_count": 3,
     "metadata": {},
     "output_type": "execute_result"
    }
   ],
   "source": [
    "tf.test.is_gpu_available()"
   ]
  },
  {
   "cell_type": "code",
   "execution_count": 4,
   "metadata": {
    "scrolled": true
   },
   "outputs": [],
   "source": [
    "import handshape_datasets as hd\n",
    "\n",
    "DATASET_NAME = \"lsa16\"\n",
    "\n",
    "data = hd.load(DATASET_NAME)"
   ]
  },
  {
   "cell_type": "code",
   "execution_count": 5,
   "metadata": {},
   "outputs": [],
   "source": [
    "!pip install -q -U scikit-learn\n",
    "from sklearn.model_selection import train_test_split\n",
    "\n",
    "features = data[0]\n",
    "labels = data[1]['y']\n",
    "\n",
    "x_train, x_test, y_train, y_test = train_test_split(features,\n",
    "                                                    labels,\n",
    "                                                    test_size=0.33,\n",
    "                                                    random_state=42)\n",
    "x_train, x_test = x_train / 255.0, x_test / 255.0"
   ]
  },
  {
   "cell_type": "code",
   "execution_count": 6,
   "metadata": {},
   "outputs": [
    {
     "data": {
      "text/plain": [
       "(800,)"
      ]
     },
     "execution_count": 6,
     "metadata": {},
     "output_type": "execute_result"
    }
   ],
   "source": [
    "labels.shape"
   ]
  },
  {
   "cell_type": "code",
   "execution_count": 7,
   "metadata": {},
   "outputs": [],
   "source": [
    "datagen = ImageDataGenerator(\n",
    "    featurewise_center=True,\n",
    "    featurewise_std_normalization=True,\n",
    "    rotation_range=10,\n",
    "    width_shift_range=0.10,\n",
    "    height_shift_range=0.10,\n",
    "    horizontal_flip=True,\n",
    "    fill_mode='constant',\n",
    "    cval=0)\n",
    "datagen.fit(x_train)\n",
    "\n",
    "test_datagen = ImageDataGenerator(\n",
    "    featurewise_center=True,\n",
    "    featurewise_std_normalization=True)\n",
    "test_datagen.fit(x_train)"
   ]
  },
  {
   "cell_type": "code",
   "execution_count": 8,
   "metadata": {
    "scrolled": true
   },
   "outputs": [],
   "source": [
    "#train_ds = tf.data.Dataset.from_tensor_slices(\n",
    "#    (x_train, y_train)).shuffle(10000).batch(32)\n",
    "#test_ds = tf.data.Dataset.from_tensor_slices((x_test, y_test)).batch(32)"
   ]
  },
  {
   "cell_type": "code",
   "execution_count": 9,
   "metadata": {
    "scrolled": true
   },
   "outputs": [],
   "source": [
    "def denseNet_model(growth_rate=32, nb_filter=64, nb_layers = [6,12,24,16], reduction=0.0, \n",
    "             dropout_rate=0.0, weight_decay=1e-4, classes=1000, batch_size=32, with_se_layers=True):\n",
    "    \n",
    "    with_se_layers = with_se_layers\n",
    "\n",
    "    # compute compression factor\n",
    "    compression = 1.0 - reduction\n",
    "\n",
    "    nb_dense_block = len(nb_layers)\n",
    "    # From architecture for ImageNet (Table 1 in the paper)\n",
    "    # nb_filter = 64\n",
    "    # nb_layers = [6,12,24,16] # For DenseNet-121\n",
    "    \n",
    "    img_input = Input(shape=(32, 32, 3), name='data')\n",
    "    \n",
    "    x = ZeroPadding2D((3, 3), name='conv1_zeropadding', \n",
    "                  input_shape=(32, 32, 3), batch_size=batch_size)(img_input)\n",
    "    x = Convolution2D(nb_filter, 7, 2, name='conv1', use_bias=False)(x)\n",
    "    x = BatchNormalization(name='conv1_bn')(x)\n",
    "    x = Activation('relu', name='relu1')(x)\n",
    "    x = ZeroPadding2D((1, 1), name='pool1_zeropadding')(x)\n",
    "    x = MaxPooling2D((3, 3), strides=(2, 2), name='pool1')(x)\n",
    "    \n",
    "    # Add dense blocks\n",
    "    for block_idx in range(nb_dense_block - 1):\n",
    "        stage = block_idx+2\n",
    "        x, nb_filter = dense_block(x, stage, nb_layers[block_idx], nb_filter, growth_rate, dropout_rate=dropout_rate, weight_decay=weight_decay)\n",
    "\n",
    "        if (with_se_layers):\n",
    "            x = se_block(x, stage, 'dense', nb_filter)\n",
    "\n",
    "        # Add transition_block\n",
    "        x = transition_block(x, stage, nb_filter, compression=compression, dropout_rate=dropout_rate, weight_decay=weight_decay)\n",
    "        nb_filter = int(nb_filter * compression)\n",
    "\n",
    "        if (with_se_layers):\n",
    "            x = se_block(x, stage, 'transition', nb_filter)\n",
    "\n",
    "    final_stage = stage + 1\n",
    "    x, nb_filter = dense_block(x, final_stage, nb_layers[-1], nb_filter, growth_rate, dropout_rate=dropout_rate, weight_decay=weight_decay)\n",
    "\n",
    "    if (with_se_layers):\n",
    "        x = se_block(x, final_stage, 'dense', nb_filter)\n",
    "\n",
    "    x = BatchNormalization(name='conv_final_blk_bn')(x)\n",
    "    x = Activation('relu', name='relu_final_blk')(x)\n",
    "    x = GlobalAveragePooling2D(name='pool_final')(x)\n",
    "    x = Dense(classes, name='fc6')(x)\n",
    "    output = Activation('softmax', name='prob')(x)\n",
    "    \n",
    "    return Model(inputs=img_input, outputs=output)\n",
    "\n",
    "def conv_block(x, stage, branch, nb_filter, dropout_rate=None, weight_decay=1e-4):\n",
    "    conv_name_base = 'conv' + str(stage) + '_' + str(branch)\n",
    "    relu_name_base = 'relu' + str(stage) + '_' + str(branch)\n",
    "\n",
    "    # 1x1 Convolution (Bottleneck layer)\n",
    "    inter_channel = nb_filter * 4  \n",
    "    x = BatchNormalization(name=conv_name_base+'_x1_bn')(x)\n",
    "    x = Activation('relu', name=relu_name_base+'_x1')(x)\n",
    "    x = Convolution2D(inter_channel, 1, 1, name=conv_name_base+'_x1', use_bias=False)(x)\n",
    "\n",
    "    if dropout_rate:\n",
    "        x = Dropout(dropout_rate)(x)\n",
    "\n",
    "    # 3x3 Convolution\n",
    "    x = BatchNormalization(name=conv_name_base+'_x2_bn')(x)\n",
    "    x = Activation('relu', name=relu_name_base+'_x2')(x)\n",
    "    x = ZeroPadding2D((1, 1), name=conv_name_base+'_x2_zeropadding')(x)\n",
    "    x = Convolution2D(nb_filter, 3, 1, name=conv_name_base+'_x2', use_bias=False)(x)\n",
    "\n",
    "    if dropout_rate:\n",
    "        x = Dropout(dropout_rate)(x)\n",
    "    return x\n",
    "\n",
    "def se_block(x, stage, previous, nb_filter, ratio = 16):\n",
    "    se_name = 'se' + str(stage) + '_' + previous\n",
    "    init = x\n",
    "    x = GlobalAveragePooling2D(name='global_average_pooling_2d_'+se_name)(x)\n",
    "    x = Dense(nb_filter // ratio, name='dense_relu_'+se_name)(x)\n",
    "    x = Activation('relu', name='relu_'+se_name)(x)\n",
    "    x = Dense(nb_filter, name='dense_sigmoid_'+se_name)(x)\n",
    "    x = Activation('sigmoid', name='sigmoid_'+se_name)(x)\n",
    "    x = tf.expand_dims(x,1)\n",
    "    x = init * tf.expand_dims(x,1) \n",
    "    return x\n",
    "\n",
    "def dense_block(x, stage, nb_layers, nb_filter, growth_rate, dropout_rate=None, weight_decay=1e-4, \n",
    "                grow_nb_filters=True):\n",
    "    concat_feat = x\n",
    "    for i in range(nb_layers):\n",
    "        branch = i+1\n",
    "        x = conv_block(x, stage, branch, growth_rate, dropout_rate, weight_decay)\n",
    "        concat_feat = tf.concat([concat_feat, x], -1)\n",
    "\n",
    "        if grow_nb_filters:\n",
    "            nb_filter += growth_rate\n",
    "\n",
    "    return concat_feat, nb_filter\n",
    "\n",
    "def transition_block(x, stage, nb_filter, compression=1.0, dropout_rate=None, weight_decay=1E-4):\n",
    "    conv_name_base = 'conv' + str(stage) + '_blk'\n",
    "    relu_name_base = 'relu' + str(stage) + '_blk'\n",
    "    pool_name_base = 'pool' + str(stage) \n",
    "\n",
    "    x = BatchNormalization(name=conv_name_base+'_bn')(x)\n",
    "    x = Activation('relu', name=relu_name_base)(x)\n",
    "    x = Convolution2D(int(nb_filter * compression), 1, 1, name=conv_name_base, use_bias=False)(x)\n",
    "\n",
    "    if dropout_rate:\n",
    "        x = Dropout(dropout_rate)(x)\n",
    "\n",
    "    x = AveragePooling2D((2, 2), strides=(2, 2), name=pool_name_base)(x)\n",
    "\n",
    "    return x\n",
    "\n",
    "model = denseNet_model(classes=16)\n",
    "# model.load_weights(weights_path) "
   ]
  },
  {
   "cell_type": "code",
   "execution_count": 10,
   "metadata": {},
   "outputs": [],
   "source": [
    "loss_object = tf.keras.losses.SparseCategoricalCrossentropy()\n",
    "\n",
    "optimizer = tf.keras.optimizers.Adam()\n"
   ]
  },
  {
   "cell_type": "code",
   "execution_count": 11,
   "metadata": {},
   "outputs": [],
   "source": [
    "train_loss = tf.keras.metrics.Mean(name='train_loss')\n",
    "train_accuracy = tf.keras.metrics.SparseCategoricalAccuracy(name='train_accuracy')\n",
    "\n",
    "test_loss = tf.keras.metrics.Mean(name='test_loss')\n",
    "test_accuracy = tf.keras.metrics.SparseCategoricalAccuracy(name='test_accuracy')"
   ]
  },
  {
   "cell_type": "code",
   "execution_count": 12,
   "metadata": {},
   "outputs": [],
   "source": [
    "@tf.function\n",
    "def train_step(images, labels):\n",
    "    with tf.GradientTape() as tape:\n",
    "        predictions = model(tf.cast(images, tf.float32), training=True)\n",
    "        loss = loss_object(labels, predictions)\n",
    "    gradients = tape.gradient(loss, model.trainable_variables)\n",
    "    optimizer.apply_gradients(zip(gradients, model.trainable_variables))\n",
    "\n",
    "    train_loss(loss)\n",
    "    train_accuracy(labels, predictions)\n"
   ]
  },
  {
   "cell_type": "code",
   "execution_count": 13,
   "metadata": {},
   "outputs": [],
   "source": [
    "@tf.function\n",
    "def test_step(images, labels):\n",
    "    predictions = model(tf.cast(images, tf.float32), training=False)\n",
    "    t_loss = loss_object(labels, predictions)\n",
    "\n",
    "    test_loss(t_loss)\n",
    "    test_accuracy(labels, predictions)\n"
   ]
  },
  {
   "cell_type": "code",
   "execution_count": 14,
   "metadata": {
    "scrolled": true
   },
   "outputs": [
    {
     "name": "stdout",
     "output_type": "stream",
     "text": [
      "Epoch: 1, Train Loss: 3.043458938598633, Train Acc:7.462686538696289, Test Loss: 2.7706422805786133, Test Acc: 8.333333969116211\n",
      "Epoch: 11, Train Loss: 2.2388598918914795, Train Acc:29.6641788482666, Test Loss: 2.798067331314087, Test Acc: 5.909090995788574\n",
      "Epoch: 21, Train Loss: 1.5411089658737183, Train Acc:51.25, Test Loss: 2.986360788345337, Test Acc: 6.25\n",
      "Epoch: 31, Train Loss: 1.1887325048446655, Train Acc:62.05223846435547, Test Loss: 2.3324947357177734, Test Acc: 24.772727966308594\n",
      "Epoch: 41, Train Loss: 0.9962700605392456, Train Acc:68.50746154785156, Test Loss: 1.281662106513977, Test Acc: 60.871212005615234\n",
      "Epoch: 51, Train Loss: 0.9263520836830139, Train Acc:71.1380615234375, Test Loss: 2.57774019241333, Test Acc: 55.30303192138672\n",
      "Epoch: 61, Train Loss: 0.8348059058189392, Train Acc:74.60820770263672, Test Loss: 2.8631341457366943, Test Acc: 57.08333206176758\n",
      "Epoch: 71, Train Loss: 0.77674400806427, Train Acc:77.55596923828125, Test Loss: 2.7536516189575195, Test Acc: 58.219696044921875\n",
      "Epoch: 81, Train Loss: 0.7432730793952942, Train Acc:77.12686920166016, Test Loss: 3.713595151901245, Test Acc: 58.52272415161133\n",
      "Epoch: 91, Train Loss: 0.6669884324073792, Train Acc:79.7947769165039, Test Loss: 4.137704372406006, Test Acc: 60.530303955078125\n",
      "Epoch: 101, Train Loss: 0.6312869787216187, Train Acc:80.9141845703125, Test Loss: 2.8233087062835693, Test Acc: 61.81818389892578\n",
      "Epoch: 111, Train Loss: 0.5927920937538147, Train Acc:81.62313842773438, Test Loss: 2.645193576812744, Test Acc: 65.03787994384766\n",
      "Epoch: 121, Train Loss: 0.6077441573143005, Train Acc:82.85447692871094, Test Loss: 3.649060010910034, Test Acc: 61.81818389892578\n",
      "Epoch: 131, Train Loss: 0.5511748194694519, Train Acc:82.68656921386719, Test Loss: 3.1323177814483643, Test Acc: 61.06060791015625\n",
      "Epoch: 141, Train Loss: 0.5413971543312073, Train Acc:84.30970001220703, Test Loss: 3.576873779296875, Test Acc: 61.51515197753906\n",
      "Epoch: 151, Train Loss: 0.49620553851127625, Train Acc:84.66417694091797, Test Loss: 3.011209726333618, Test Acc: 65.18939208984375\n",
      "Epoch: 161, Train Loss: 0.48715585470199585, Train Acc:86.11940002441406, Test Loss: 2.7098937034606934, Test Acc: 64.16666412353516\n",
      "Epoch: 171, Train Loss: 0.4877992868423462, Train Acc:85.29850769042969, Test Loss: 2.178333282470703, Test Acc: 65.98484802246094\n",
      "Epoch: 181, Train Loss: 0.48603448271751404, Train Acc:85.39179229736328, Test Loss: 3.195610523223877, Test Acc: 65.6439437866211\n",
      "Epoch: 191, Train Loss: 0.4462883770465851, Train Acc:86.67910766601562, Test Loss: 4.035479545593262, Test Acc: 64.92424011230469\n",
      "Epoch: 201, Train Loss: 0.4598570466041565, Train Acc:86.43656921386719, Test Loss: 4.135398864746094, Test Acc: 66.0984878540039\n",
      "Epoch: 211, Train Loss: 0.4444510042667389, Train Acc:87.44403076171875, Test Loss: 2.7785096168518066, Test Acc: 65.79545593261719\n",
      "Epoch: 221, Train Loss: 0.4364069402217865, Train Acc:86.5671615600586, Test Loss: 2.4054667949676514, Test Acc: 62.68939208984375\n",
      "Epoch: 231, Train Loss: 0.4870220720767975, Train Acc:86.60447692871094, Test Loss: 4.254941940307617, Test Acc: 64.31817626953125\n",
      "Epoch: 241, Train Loss: 0.46591833233833313, Train Acc:87.07089233398438, Test Loss: 3.7674214839935303, Test Acc: 64.50757598876953\n",
      "Epoch: 251, Train Loss: 0.42622047662734985, Train Acc:87.8171615600586, Test Loss: 3.6797726154327393, Test Acc: 65.6439437866211\n",
      "Epoch: 261, Train Loss: 0.3974580764770508, Train Acc:89.06716918945312, Test Loss: 3.7114434242248535, Test Acc: 68.21969604492188\n",
      "Epoch: 271, Train Loss: 0.3950110375881195, Train Acc:88.89925384521484, Test Loss: 2.5125341415405273, Test Acc: 65.6439437866211\n",
      "Epoch: 281, Train Loss: 0.3783491551876068, Train Acc:88.75, Test Loss: 3.182687282562256, Test Acc: 68.93939208984375\n",
      "Epoch: 291, Train Loss: 0.3912977874279022, Train Acc:88.41417694091797, Test Loss: 2.4012234210968018, Test Acc: 67.5\n",
      "Epoch: 301, Train Loss: 0.36670172214508057, Train Acc:89.5708999633789, Test Loss: 2.017930507659912, Test Acc: 70.6060562133789\n",
      "Epoch: 311, Train Loss: 0.3372456133365631, Train Acc:90.07463073730469, Test Loss: 2.275834321975708, Test Acc: 70.56817626953125\n",
      "Epoch: 321, Train Loss: 0.34608617424964905, Train Acc:89.94403076171875, Test Loss: 1.827979564666748, Test Acc: 72.15909576416016\n",
      "Epoch: 331, Train Loss: 0.3246522843837738, Train Acc:90.41044616699219, Test Loss: 1.8296246528625488, Test Acc: 71.36363220214844\n",
      "Epoch: 341, Train Loss: 0.3240633010864258, Train Acc:90.63433074951172, Test Loss: 2.0663704872131348, Test Acc: 69.54545593261719\n",
      "Epoch: 351, Train Loss: 0.34007731080055237, Train Acc:90.0186538696289, Test Loss: 2.2709500789642334, Test Acc: 66.28787994384766\n",
      "Epoch: 361, Train Loss: 0.34461885690689087, Train Acc:90.0186538696289, Test Loss: 3.3497347831726074, Test Acc: 67.00757598876953\n",
      "Epoch: 371, Train Loss: 0.3329465389251709, Train Acc:90.85820770263672, Test Loss: 2.8310625553131104, Test Acc: 69.50757598876953\n",
      "Epoch: 381, Train Loss: 0.35561317205429077, Train Acc:90.27985382080078, Test Loss: 38.76520919799805, Test Acc: 61.21212387084961\n",
      "Epoch: 391, Train Loss: 0.3777053952217102, Train Acc:89.53357696533203, Test Loss: 6.192285060882568, Test Acc: 63.93939208984375\n",
      "Epoch: 401, Train Loss: 0.33149734139442444, Train Acc:90.69029998779297, Test Loss: 2.3813562393188477, Test Acc: 70.34090423583984\n",
      "Epoch: 411, Train Loss: 0.28910142183303833, Train Acc:91.64179229736328, Test Loss: 3.0089406967163086, Test Acc: 73.21969604492188\n",
      "Epoch: 421, Train Loss: 0.2679429054260254, Train Acc:92.64925384521484, Test Loss: 4.630129814147949, Test Acc: 72.76515197753906\n",
      "Epoch: 431, Train Loss: 0.3357570767402649, Train Acc:91.47388458251953, Test Loss: 8.731596946716309, Test Acc: 68.67424011230469\n",
      "Epoch: 441, Train Loss: 0.3387935757637024, Train Acc:90.85820770263672, Test Loss: 6.952939033508301, Test Acc: 67.91666412353516\n",
      "Epoch: 451, Train Loss: 0.3161441683769226, Train Acc:92.01492309570312, Test Loss: 15.805639266967773, Test Acc: 72.1212158203125\n",
      "Epoch: 461, Train Loss: 0.3043782114982605, Train Acc:91.64179229736328, Test Loss: 4.10454797744751, Test Acc: 73.67424011230469\n",
      "Epoch: 471, Train Loss: 0.2680668234825134, Train Acc:92.85447692871094, Test Loss: 2.6387815475463867, Test Acc: 75.18939208984375\n",
      "Epoch: 481, Train Loss: 0.39167046546936035, Train Acc:92.10820770263672, Test Loss: 3.7777137756347656, Test Acc: 61.931819915771484\n",
      "Epoch: 491, Train Loss: 0.361930787563324, Train Acc:90.74626922607422, Test Loss: 2.6237637996673584, Test Acc: 62.3863639831543\n",
      "Epoch: 501, Train Loss: 0.30260351300239563, Train Acc:92.276123046875, Test Loss: 1.285810112953186, Test Acc: 75.03787994384766\n",
      "Epoch: 511, Train Loss: 0.23534947633743286, Train Acc:93.48880767822266, Test Loss: 0.8625974059104919, Test Acc: 81.51515197753906\n",
      "Epoch: 521, Train Loss: 0.1717848777770996, Train Acc:94.62686920166016, Test Loss: 0.9787729978561401, Test Acc: 80.79545593261719\n",
      "Epoch: 531, Train Loss: 0.15819041430950165, Train Acc:95.1119384765625, Test Loss: 0.8047301173210144, Test Acc: 82.5\n",
      "Epoch: 541, Train Loss: 0.1540125608444214, Train Acc:95.223876953125, Test Loss: 0.8728383183479309, Test Acc: 80.71969604492188\n",
      "Epoch: 551, Train Loss: 0.11204509437084198, Train Acc:96.66044616699219, Test Loss: 0.875185489654541, Test Acc: 81.4772720336914\n",
      "Epoch: 561, Train Loss: 0.10158791393041611, Train Acc:96.4552230834961, Test Loss: 0.4980334937572479, Test Acc: 86.89393615722656\n",
      "Epoch: 571, Train Loss: 0.11062400043010712, Train Acc:96.32463073730469, Test Loss: 0.4617650806903839, Test Acc: 86.55303192138672\n",
      "Epoch: 581, Train Loss: 0.10455537587404251, Train Acc:96.41790771484375, Test Loss: 0.482968807220459, Test Acc: 87.04545593261719\n",
      "Epoch: 591, Train Loss: 0.0940033495426178, Train Acc:96.60447692871094, Test Loss: 0.394449919462204, Test Acc: 88.14393615722656\n",
      "Epoch: 601, Train Loss: 0.09709029644727707, Train Acc:96.75373077392578, Test Loss: 0.5319514274597168, Test Acc: 85.6439437866211\n",
      "Epoch: 611, Train Loss: 0.08147887885570526, Train Acc:97.12686157226562, Test Loss: 0.3681548237800598, Test Acc: 90.03787994384766\n",
      "Epoch: 621, Train Loss: 0.09252645075321198, Train Acc:96.66044616699219, Test Loss: 0.4781866669654846, Test Acc: 87.42424011230469\n"
     ]
    },
    {
     "name": "stdout",
     "output_type": "stream",
     "text": [
      "Epoch: 631, Train Loss: 0.10089632123708725, Train Acc:96.71641540527344, Test Loss: 0.5443257689476013, Test Acc: 86.78030395507812\n",
      "Epoch: 641, Train Loss: 0.09585300832986832, Train Acc:96.75373077392578, Test Loss: 0.6266719698905945, Test Acc: 84.6212158203125\n",
      "Epoch: 651, Train Loss: 0.08581169694662094, Train Acc:97.14552307128906, Test Loss: 0.49508875608444214, Test Acc: 87.46212005615234\n",
      "Epoch: 661, Train Loss: 0.09028290957212448, Train Acc:96.95895385742188, Test Loss: 0.3908652365207672, Test Acc: 87.84091186523438\n",
      "Epoch: 671, Train Loss: 0.08635737001895905, Train Acc:96.95895385742188, Test Loss: 0.7959036827087402, Test Acc: 81.74242401123047\n",
      "Epoch: 681, Train Loss: 0.07465259730815887, Train Acc:97.5, Test Loss: 0.5715638399124146, Test Acc: 86.06060791015625\n",
      "Epoch: 691, Train Loss: 0.07253492623567581, Train Acc:97.64925384521484, Test Loss: 0.4582061469554901, Test Acc: 87.42424011230469\n",
      "Epoch: 701, Train Loss: 0.0960066169500351, Train Acc:96.69776153564453, Test Loss: 0.392192006111145, Test Acc: 87.23484802246094\n",
      "Epoch: 711, Train Loss: 0.06433766335248947, Train Acc:97.76119232177734, Test Loss: 0.360382080078125, Test Acc: 88.82575988769531\n",
      "Epoch: 721, Train Loss: 0.08456271141767502, Train Acc:97.20149230957031, Test Loss: 0.6038747429847717, Test Acc: 85.0\n",
      "Epoch: 731, Train Loss: 0.06584558635950089, Train Acc:97.68656158447266, Test Loss: 0.3843074440956116, Test Acc: 89.1287841796875\n",
      "Epoch: 741, Train Loss: 0.07321565598249435, Train Acc:97.5, Test Loss: 0.34919244050979614, Test Acc: 89.96212005615234\n",
      "Epoch: 751, Train Loss: 0.06229470297694206, Train Acc:97.7052230834961, Test Loss: 0.47106894850730896, Test Acc: 88.37120819091797\n",
      "Epoch: 761, Train Loss: 0.07438592612743378, Train Acc:97.35074615478516, Test Loss: 0.4656919240951538, Test Acc: 87.42424011230469\n",
      "Epoch: 771, Train Loss: 0.055454522371292114, Train Acc:98.13432312011719, Test Loss: 0.3869699239730835, Test Acc: 89.01515197753906\n",
      "Epoch: 781, Train Loss: 0.05522412806749344, Train Acc:98.02239227294922, Test Loss: 0.3619854748249054, Test Acc: 90.18939208984375\n",
      "Epoch: 791, Train Loss: 0.049280796200037, Train Acc:98.48880767822266, Test Loss: 0.6234396696090698, Test Acc: 87.5\n"
     ]
    }
   ],
   "source": [
    "EPOCHS = 800\n",
    "models_directory = 'trained-models'\n",
    "results_directory = 'results'\n",
    "results = 'epoch,loss,accuracy,test_loss,test_accuracy\\n'\n",
    "from datetime import datetime\n",
    "now = datetime.now()\n",
    "\n",
    "log_freq = 10\n",
    "save_freq = 100\n",
    "identifier = now.strftime(\"%Y_%m_%d-%H:%M:%S\")\n",
    "train_summary_writer = tf.summary.create_file_writer('summaries/train/'+ identifier)\n",
    "test_summary_writer = tf.summary.create_file_writer('summaries/test/'+ identifier)\n",
    "\n",
    "for epoch in range(EPOCHS):\n",
    "\n",
    "    batches = 0\n",
    "    for images, labels in datagen.flow(x_train, y_train, batch_size=32):\n",
    "        train_step(images, labels)\n",
    "        batches += 1\n",
    "        if batches >= len(x_train) / 32:\n",
    "            # we need to break the loop by hand because\n",
    "            # the generator loops indefinitely\n",
    "            break\n",
    "\n",
    "    batches = 0\n",
    "    for test_images, test_labels in test_datagen.flow(x_test, y_test, batch_size=32, shuffle=False):\n",
    "        test_step(test_images, test_labels)\n",
    "        batches += 1\n",
    "        if batches >= len(x_test) / 32:\n",
    "            # we need to break the loop by hand because\n",
    "            # the generator loops indefinitely\n",
    "            break\n",
    "\n",
    "    if (epoch % log_freq == 0):\n",
    "        results += '{},{},{},{},{}\\n'.format(epoch+1,\n",
    "                               train_loss.result(),\n",
    "                               train_accuracy.result()*100,\n",
    "                               test_loss.result(),\n",
    "                               test_accuracy.result()*100)\n",
    "        \n",
    "        print ('Epoch: {}, Train Loss: {}, Train Acc:{}, Test Loss: {}, Test Acc: {}'.format(epoch+1,\n",
    "                               train_loss.result(),\n",
    "                               train_accuracy.result()*100,\n",
    "                               test_loss.result(),\n",
    "                               test_accuracy.result()*100))\n",
    "\n",
    "        with train_summary_writer.as_default():\n",
    "            tf.summary.scalar('loss', train_loss.result(), step=epoch)\n",
    "            tf.summary.scalar('accuracy', train_accuracy.result(), step=epoch)\n",
    "            train_loss.reset_states()           \n",
    "            train_accuracy.reset_states()           \n",
    "\n",
    "        with test_summary_writer.as_default():\n",
    "            tf.summary.scalar('loss', test_loss.result(), step=epoch)\n",
    "            tf.summary.scalar('accuracy', test_accuracy.result(), step=epoch)\n",
    "            test_loss.reset_states()           \n",
    "            test_accuracy.reset_states()           \n",
    "        \n",
    "        \n",
    "    \n",
    "    if (epoch % save_freq == 0):\n",
    "        if not os.path.exists(models_directory):\n",
    "            os.makedirs(models_directory)\n",
    "        # serialize weights to HDF5\n",
    "        model.save_weights(models_directory+\"/dropout_se_model{}_epoch{}.h5\".format(identifier,epoch))\n",
    "if not os.path.exists(results_directory):\n",
    "    os.makedirs(results_directory)\n",
    "file = open(results_directory+'/results'+ identifier + '.csv','w') \n",
    "file.write(results) \n",
    "file.close()"
   ]
  }
 ],
 "metadata": {
  "kernelspec": {
   "display_name": "Python 3",
   "language": "python",
   "name": "python3"
  },
  "language_info": {
   "codemirror_mode": {
    "name": "ipython",
    "version": 3
   },
   "file_extension": ".py",
   "mimetype": "text/x-python",
   "name": "python",
   "nbconvert_exporter": "python",
   "pygments_lexer": "ipython3",
   "version": "3.6.7"
  }
 },
 "nbformat": 4,
 "nbformat_minor": 2
}
